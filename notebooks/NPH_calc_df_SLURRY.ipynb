{
 "cells": [
  {
   "cell_type": "code",
   "execution_count": null,
   "id": "962d2e63-bfbc-4094-b784-e111fe6a08aa",
   "metadata": {},
   "outputs": [],
   "source": [
    "# This notebook populates, calculates, and concatenates NPH information using a .csv file containing NPH sample info obtained from the Core\n",
    "# The output is a .txt file that will be uploaded into the respective Qiita Study sample information metadata file\n",
    "# MAKE A COPY OF THIS NOTEBOOK TO USE FOR EACH SAMPLE SHIPMENT\n",
    "# MAKE SURE LOT INFORMATION IS UPDATED AND ACCURATE - MACKENZIE WILL HAVE THIS"
   ]
  },
  {
   "cell_type": "code",
   "execution_count": null,
   "id": "71d6d94c-55fb-4c58-8c6f-fa09dcc57dac",
   "metadata": {},
   "outputs": [],
   "source": [
    "# TERMS of metadata columns:\n",
    "# sample: raw sample, ie stool\n",
    "# storage liquid: storage liquid used with sample, ie DNA/RNA shield\n",
    "# storage tube: tube used to store sample and storage liquid - storage tube also includes labels\n",
    "# homogenate: sample + storage iquid, homogenously combined\n",
    "# aliquot: refers to the process of aliquoting material into the matrix tube for extraction"
   ]
  },
  {
   "cell_type": "code",
   "execution_count": null,
   "id": "7ee4dcc9-152b-4134-8df3-b59964b4086a",
   "metadata": {},
   "outputs": [],
   "source": [
    "# Import pandas\n",
    "import pandas as pd"
   ]
  },
  {
   "cell_type": "code",
   "execution_count": null,
   "id": "7cf0426c-47e0-498b-83a1-36eb78c0e88b",
   "metadata": {},
   "outputs": [],
   "source": [
    "# Step 1: Import .csv file from Core and check output is as expected:"
   ]
  },
  {
   "cell_type": "code",
   "execution_count": null,
   "id": "0887ac35-7699-4d86-8786-02bbb0d70fd4",
   "metadata": {},
   "outputs": [],
   "source": [
    "# Import and define df\n",
    "calc_df = pd.read_csv('/Users/mmbryant/Documents/Python Things/Initial Attempts/TEMPLATE Sample Processing spreadsheet notebook test.csv')"
   ]
  },
  {
   "cell_type": "code",
   "execution_count": null,
   "id": "948a91b6-ff06-422a-8621-ec08f9e9a4f0",
   "metadata": {
    "scrolled": true
   },
   "outputs": [],
   "source": [
    "# Check that calc_df looks as expected\n",
    "calc_df.head()"
   ]
  },
  {
   "cell_type": "code",
   "execution_count": null,
   "id": "32883aa8-f2b5-4120-82a3-954524f85a84",
   "metadata": {},
   "outputs": [],
   "source": [
    "# List column names that are currently present in calc_df\n",
    "list(calc_df.columns)"
   ]
  },
  {
   "cell_type": "code",
   "execution_count": null,
   "id": "0f712ae8-f911-46da-b37a-a9ae48ff1458",
   "metadata": {},
   "outputs": [],
   "source": [
    "# Check for tube_id and/or sample_name columns are present in file (this might change depending on what col name we move forward with)\n",
    "if 'tube_id' in calc_df.columns or 'sample_name' in calc_df.columns:\n",
    "   print(\"tube_id and/or sample_name column is present in file : OK to proceed\")\n",
    "else:\n",
    "   print(\"tube_id and/or sample_name column NOT present in file : DO NOT to proceed\")"
   ]
  },
  {
   "cell_type": "code",
   "execution_count": null,
   "id": "88ce9d80-5347-4c72-9287-7852a74f64fa",
   "metadata": {},
   "outputs": [],
   "source": [
    "# Step 2: Confirm lot #, add lot number specific columns and remaining information, and check that all values required for calculations are present"
   ]
  },
  {
   "cell_type": "code",
   "execution_count": null,
   "id": "21699461-b099-4801-af6a-4469bbecaaae",
   "metadata": {},
   "outputs": [],
   "source": [
    "# Check that the current lot number is as expected before adding lot specific information to df\n",
    "\n",
    "# Current info is for lot #: 219839  !! (Oct 2023)\n",
    "\n",
    "calc_df['storage_liquid_lot_number'].value_counts()"
   ]
  },
  {
   "cell_type": "code",
   "execution_count": null,
   "id": "c8ed8212-10bf-409c-893e-ec03cceb7219",
   "metadata": {},
   "outputs": [],
   "source": [
    "# Add lot number specific information to calc_df\n",
    "# REMINDER: Current info is for lot # 219839  !!\n",
    "calc_df['mass_storage_tube_and_storage_liquid_before_sample_g']='16.9'\n",
    "calc_df['mass_storage_tube_and_storage_liquid_before_sample_mg']='16900'\n",
    "calc_df['density_storage_liquid_kg_l']='1.11'\n",
    "calc_df['density_storage_liquid_g_ml']='1.11'\n",
    "calc_df['mass_storage_tube_only_g']='7.18' #this won't change for NPH, = shield tube + label\n",
    "calc_df['density_sample_g_ml']='1.06' #this won't change for NPH, = stool\n",
    "calc_df['density_sample_kg_l']='1.06' #this won't change for NPH, = stool\n",
    "calc_df['storage_liquid_type']='DNA/RNA Shield' #this won't change for NPH"
   ]
  },
  {
   "cell_type": "code",
   "execution_count": null,
   "id": "b0cb3b5d-ccf9-4c10-b92e-5c26a4640cb9",
   "metadata": {},
   "outputs": [],
   "source": [
    "# Change data type of new values (was having issues with calculation due to data type - can this function be concatenated with above?)\n",
    "calc_df['mass_storage_tube_and_storage_liquid_before_sample_g'] = calc_df['mass_storage_tube_and_storage_liquid_before_sample_g'].astype('float')\n",
    "calc_df['mass_storage_tube_and_storage_liquid_before_sample_mg'] = calc_df['mass_storage_tube_and_storage_liquid_before_sample_mg'].astype('float')\n",
    "calc_df['density_storage_liquid_kg_l'] = calc_df['density_storage_liquid_kg_l'].astype('float')\n",
    "calc_df['density_storage_liquid_g_ml'] = calc_df['density_storage_liquid_g_ml'].astype('float')\n",
    "calc_df['mass_storage_tube_only_g'] = calc_df['mass_storage_tube_only_g'].astype('float')\n",
    "calc_df['density_sample_g_ml'] = calc_df['density_sample_g_ml'].astype('float')\n",
    "calc_df['density_sample_kg_l'] = calc_df['density_sample_kg_l'].astype('float')"
   ]
  },
  {
   "cell_type": "code",
   "execution_count": null,
   "id": "1bc453c2-2992-474e-bea3-0eec9be46a2a",
   "metadata": {},
   "outputs": [],
   "source": [
    "calc_df.head()"
   ]
  },
  {
   "cell_type": "code",
   "execution_count": null,
   "id": "18ed21f8-bb91-47e3-bce6-ba814d897fbb",
   "metadata": {},
   "outputs": [],
   "source": [
    "# Check that all values required for abs quant calculations are present\n",
    "slurry_calc_columns = ['vol_homogenate_aliquot_input_ul', 'vol_homogenate_aliquot_input_ml', 'mass_storage_tube_and_storage_liquid_after_sample_g', 'mass_storage_tube_and_storage_liquid_after_sample_mg', 'mass_storage_tube_and_storage_liquid_before_sample_g', 'mass_storage_tube_and_storage_liquid_before_sample_mg', 'mass_storage_tube_only_g', 'density_storage_liquid_kg_l', 'density_storage_liquid_g_ml', 'storage_liquid_lot_number', 'density_sample_g_ml', 'density_sample_kg_l', 'storage_liquid_type']\n",
    "\n",
    "if set(slurry_calc_columns).issubset(calc_df.columns):\n",
    "    print('All abs quant column requirements for slurry sample calculations have been met. Proceed.')\n",
    "else:\n",
    "    print('All abs quant column requirements for slurry sample calculations have NOT been met. DO NOT proceed, and determine what needs to be added.')"
   ]
  },
  {
   "cell_type": "code",
   "execution_count": null,
   "id": "88f8ef87-c1dd-4e74-b4dc-2c4a1e89ad1c",
   "metadata": {},
   "outputs": [],
   "source": [
    "# Step 3: Generate calculated values and add new columns to calc_df:"
   ]
  },
  {
   "cell_type": "code",
   "execution_count": null,
   "id": "2ba9cdee-0bad-41e6-b182-3138f2d4d050",
   "metadata": {
    "scrolled": true
   },
   "outputs": [],
   "source": [
    "# Calcuate and generate columns for mass of sample in storage tube and mass of the storage liquid\n",
    "calc_df = calc_df.assign(calc_mass_sample_in_storage_tube_mg=calc_df['mass_storage_tube_and_storage_liquid_after_sample_mg']-calc_df['mass_storage_tube_and_storage_liquid_before_sample_mg'],\n",
    "                         calc_mass_sample_in_storage_tube_g=calc_df['mass_storage_tube_and_storage_liquid_after_sample_g']-calc_df['mass_storage_tube_and_storage_liquid_before_sample_g'],\n",
    "                         calc_mass_storage_liquid_only_g=calc_df['mass_storage_tube_and_storage_liquid_before_sample_g']-calc_df['mass_storage_tube_only_g'])"
   ]
  },
  {
   "cell_type": "code",
   "execution_count": null,
   "id": "182777b0-033f-4cf7-b148-edd1b60d837e",
   "metadata": {},
   "outputs": [],
   "source": [
    "# Calcuate and generate columns for volume of storage liquid only and volume of sample in storage tube\n",
    "# In different cell because these equations contain columns that were defined above - any way to optimize this?\n",
    "calc_df = calc_df.assign(calc_vol_storage_liquid_only_ml=calc_df['calc_mass_storage_liquid_only_g']/calc_df['density_storage_liquid_g_ml'],\n",
    "                         calc_vol_sample_in_storage_tube_ml=(calc_df['mass_storage_tube_and_storage_liquid_after_sample_g']-calc_df['mass_storage_tube_and_storage_liquid_before_sample_g'])/calc_df['density_sample_g_ml'])"
   ]
  },
  {
   "cell_type": "code",
   "execution_count": null,
   "id": "7e0ddb86-0db2-4992-8844-675d044a4707",
   "metadata": {},
   "outputs": [],
   "source": [
    "# Calcuate and generate columns for volume homogenate in storage tube\n",
    "calc_df = calc_df.assign(calc_vol_homogenate_in_storage_tube_ml=calc_df['calc_vol_storage_liquid_only_ml']+calc_df['calc_vol_sample_in_storage_tube_ml'])"
   ]
  },
  {
   "cell_type": "code",
   "execution_count": null,
   "id": "5b04741e-5d79-41ed-91e7-8334061bad88",
   "metadata": {},
   "outputs": [],
   "source": [
    "# Calcuate and generate columns for density of homogenate\n",
    "calc_df = calc_df.assign(calc_density_homogenate_g_ml=(calc_df['mass_storage_tube_and_storage_liquid_after_sample_g']-calc_df['mass_storage_tube_only_g'])/calc_df['calc_vol_homogenate_in_storage_tube_ml'])"
   ]
  },
  {
   "cell_type": "code",
   "execution_count": null,
   "id": "3c373447-e7b0-4296-9249-625718a39e61",
   "metadata": {},
   "outputs": [],
   "source": [
    "# Calcuate and generate columns for mass of the homogenate aliquotted into the matrix tube and mass of the sample aliquotted into the matrix tube\n",
    "calc_df = calc_df.assign(calc_mass_homogenate_aliquot_input_g=calc_df['calc_density_homogenate_g_ml']*calc_df['vol_homogenate_aliquot_input_ml'],\n",
    "                         calc_mass_sample_aliquot_input_g=((calc_df['density_sample_g_ml']*calc_df['density_storage_liquid_g_ml']*calc_df['vol_homogenate_aliquot_input_ml'])-(calc_df['density_sample_g_ml']*calc_df['calc_density_homogenate_g_ml']*calc_df['vol_homogenate_aliquot_input_ml']))/(calc_df['density_storage_liquid_g_ml']-calc_df['density_sample_g_ml']))"
   ]
  },
  {
   "cell_type": "code",
   "execution_count": null,
   "id": "d279be24-f8d2-45bd-8810-8bf060f4a976",
   "metadata": {},
   "outputs": [],
   "source": [
    "# Calcuate and generate columns for mg of sample alituotted into matrix tube as mass of the storage liquid aliquotted into the matrix tube\n",
    "calc_df = calc_df.assign(calc_mass_sample_aliquot_input_mg=calc_df['calc_mass_sample_aliquot_input_g']*1000,\n",
    "                         calc_mass_storage_liquid_aliquot_input_g=calc_df['calc_mass_homogenate_aliquot_input_g']-calc_df['calc_mass_sample_aliquot_input_g'])"
   ]
  },
  {
   "cell_type": "code",
   "execution_count": null,
   "id": "6de61fe3-c99f-462b-ad66-370f723ac0bd",
   "metadata": {},
   "outputs": [],
   "source": [
    "# Step 4: Check output is as expected and export .csv:"
   ]
  },
  {
   "cell_type": "code",
   "execution_count": null,
   "id": "033d0deb-e742-40ac-af97-9509391d27db",
   "metadata": {
    "scrolled": true
   },
   "outputs": [],
   "source": [
    "# Check new columns are present and expected\n",
    "calc_df.head()"
   ]
  },
  {
   "cell_type": "code",
   "execution_count": null,
   "id": "00c6176e-232e-4af1-ab31-f5be8f275f63",
   "metadata": {},
   "outputs": [],
   "source": [
    "# Export .txt\n",
    "calc_df.to_csv('/Users/mmbryant/Documents/Python Things/Initial Attempts/nph_calc_from_core_NOTEBOOK_test.txt', sep='\\t', index=False)"
   ]
  }
 ],
 "metadata": {
  "kernelspec": {
   "display_name": "Python 3 (ipykernel)",
   "language": "python",
   "name": "python3"
  },
  "language_info": {
   "codemirror_mode": {
    "name": "ipython",
    "version": 3
   },
   "file_extension": ".py",
   "mimetype": "text/x-python",
   "name": "python",
   "nbconvert_exporter": "python",
   "pygments_lexer": "ipython3",
   "version": "3.10.9"
  }
 },
 "nbformat": 4,
 "nbformat_minor": 5
}
